{
 "cells": [
  {
   "cell_type": "code",
   "execution_count": 1,
   "outputs": [
    {
     "name": "stderr",
     "output_type": "stream",
     "text": [
      "C:\\Users\\IfanY\\anaconda3\\lib\\site-packages\\torchvision\\io\\image.py:13: UserWarning: Failed to load image Python extension: Could not find module 'C:\\Users\\IfanY\\anaconda3\\Lib\\site-packages\\torchvision\\image.pyd' (or one of its dependencies). Try using the full path with constructor syntax.\n",
      "  warn(f\"Failed to load image Python extension: {e}\")\n"
     ]
    }
   ],
   "source": [
    "import torch\n",
    "from torch import nn\n",
    "from torch.utils.data import DataLoader\n",
    "from torchvision import datasets\n",
    "from torchvision.transforms import ToTensor"
   ],
   "metadata": {
    "collapsed": false,
    "pycharm": {
     "name": "#%%\n"
    }
   }
  },
  {
   "cell_type": "code",
   "execution_count": 2,
   "outputs": [],
   "source": [
    "training_data = datasets.FashionMNIST(\n",
    "    root=\"data\",\n",
    "    train=True,\n",
    "    download=False,\n",
    "    transform=ToTensor(),\n",
    ")\n",
    "\n",
    "test_data = datasets.FashionMNIST(\n",
    "    root=\"data\",\n",
    "    train=False,\n",
    "    download=False,\n",
    "    transform=ToTensor(),\n",
    ")"
   ],
   "metadata": {
    "collapsed": false,
    "pycharm": {
     "name": "#%%\n"
    }
   }
  },
  {
   "cell_type": "code",
   "execution_count": 3,
   "outputs": [
    {
     "name": "stdout",
     "output_type": "stream",
     "text": [
      "Shape of X [N, C, H, W]: torch.Size([64, 1, 28, 28])\n",
      "Shape of y:torch.Size([64]) torch.int64\n"
     ]
    }
   ],
   "source": [
    "batch_size = 64\n",
    "\n",
    "train_dataloader = DataLoader(training_data, batch_size=batch_size)\n",
    "test_dataloader = DataLoader(test_data, batch_size=batch_size)\n",
    "\n",
    "for X, y in test_dataloader:\n",
    "    print(f\"Shape of X [N, C, H, W]: {X.shape}\")\n",
    "    print(f\"Shape of y:{y.shape} {y.dtype}\")\n",
    "    break"
   ],
   "metadata": {
    "collapsed": false,
    "pycharm": {
     "name": "#%%\n"
    }
   }
  },
  {
   "cell_type": "code",
   "execution_count": 4,
   "outputs": [
    {
     "name": "stdout",
     "output_type": "stream",
     "text": [
      "Using cpu device\n"
     ]
    }
   ],
   "source": [
    "device = \"cuda\" if torch.cuda.is_available() else \"cpu\"\n",
    "print(f\"Using {device} device\")"
   ],
   "metadata": {
    "collapsed": false,
    "pycharm": {
     "name": "#%%\n"
    }
   }
  },
  {
   "cell_type": "code",
   "execution_count": 5,
   "outputs": [
    {
     "name": "stdout",
     "output_type": "stream",
     "text": [
      "NeuralNetwork(\n",
      "  (flatten): Flatten(start_dim=1, end_dim=-1)\n",
      "  (linear_relu_stack): Sequential(\n",
      "    (0): Linear(in_features=784, out_features=512, bias=True)\n",
      "    (1): ReLU()\n",
      "    (2): Linear(in_features=512, out_features=512, bias=True)\n",
      "    (3): ReLU()\n",
      "    (4): Linear(in_features=512, out_features=10, bias=True)\n",
      "  )\n",
      ")\n"
     ]
    }
   ],
   "source": [
    "class NeuralNetwork(nn.Module):\n",
    "    def __init__(self):\n",
    "        super(NeuralNetwork, self).__init__()\n",
    "        self.flatten = nn.Flatten()\n",
    "        self.linear_relu_stack = nn.Sequential(\n",
    "            nn.Linear(28 * 28, 512),\n",
    "            nn.ReLU(),\n",
    "            nn.Linear(512, 512),\n",
    "            nn.ReLU(),\n",
    "            nn.Linear(512, 10),\n",
    "        )\n",
    "\n",
    "    def forward(self, x):\n",
    "        x = self.flatten(x)\n",
    "        logits = self.linear_relu_stack(x)\n",
    "        return logits\n",
    "\n",
    "\n",
    "model = NeuralNetwork().to(device)\n",
    "print(model)"
   ],
   "metadata": {
    "collapsed": false,
    "pycharm": {
     "name": "#%%\n"
    }
   }
  },
  {
   "cell_type": "code",
   "execution_count": 6,
   "outputs": [],
   "source": [
    "loss_fn = nn.CrossEntropyLoss()\n",
    "optimizer = torch.optim.SGD(model.parameters(), lr=1e-31)"
   ],
   "metadata": {
    "collapsed": false,
    "pycharm": {
     "name": "#%%\n"
    }
   }
  },
  {
   "cell_type": "code",
   "execution_count": 7,
   "outputs": [],
   "source": [
    "def train(dataloader, model, loss_fn, optimizer):\n",
    "    size = len(dataloader.dataset)\n",
    "    model.train()\n",
    "    for batch, (X, y) in enumerate(dataloader):\n",
    "        X, y = X.to(device), y.to(device)\n",
    "\n",
    "        pred = model(X)\n",
    "        loss = loss_fn(pred, y)\n",
    "\n",
    "        optimizer.zero_grad()\n",
    "        loss.backward()\n",
    "        optimizer.step()\n",
    "\n",
    "        if batch % 100 == 0:\n",
    "            loss, current = loss.item(), batch * len(X)\n",
    "            print(f\"loss: {loss:>7f}  [{current:>5d}/{size:>5d}]\")"
   ],
   "metadata": {
    "collapsed": false,
    "pycharm": {
     "name": "#%%\n"
    }
   }
  },
  {
   "cell_type": "code",
   "execution_count": 8,
   "outputs": [],
   "source": [
    "def test(dataloader, model, loss_fn):\n",
    "    size = len(dataloader.dataset)\n",
    "    num_baches = len(dataloader)\n",
    "    model.eval()\n",
    "    test_loss, current = 0, 0\n",
    "    with torch.no_grad():\n",
    "        for X, y in dataloader:\n",
    "            X, y = X.to(device), y.to(device)\n",
    "            pred = model(X)\n",
    "            test_loss += loss_fn(pred, y).item()\n",
    "            current += (pred.argmax(1)==y).type(torch.float).sum().item()\n",
    "    test_loss /= num_baches\n",
    "    current /= size\n",
    "    print(f\"Test Error: \\n Accuracy: {(100 * current):>0.1f}%, Avg loss: {test_loss:>8f}\\n\")"
   ],
   "metadata": {
    "collapsed": false,
    "pycharm": {
     "name": "#%%\n"
    }
   }
  },
  {
   "cell_type": "code",
   "execution_count": 9,
   "outputs": [
    {
     "name": "stdout",
     "output_type": "stream",
     "text": [
      "Epoch 1\n",
      "-------------------\n",
      "loss: 2.313850  [    0/60000]\n",
      "loss: 2.309516  [ 6400/60000]\n",
      "loss: 2.310773  [12800/60000]\n",
      "loss: 2.303579  [19200/60000]\n",
      "loss: 2.308517  [25600/60000]\n",
      "loss: 2.309536  [32000/60000]\n",
      "loss: 2.299196  [38400/60000]\n",
      "loss: 2.302678  [44800/60000]\n",
      "loss: 2.307226  [51200/60000]\n",
      "loss: 2.293816  [57600/60000]\n",
      "Test Error: \n",
      " Accuracy: 9.4%, Avg loss: 2.305494\n",
      "\n",
      "Epoch 2\n",
      "-------------------\n",
      "loss: 2.313850  [    0/60000]\n",
      "loss: 2.309516  [ 6400/60000]\n",
      "loss: 2.310773  [12800/60000]\n",
      "loss: 2.303579  [19200/60000]\n",
      "loss: 2.308517  [25600/60000]\n",
      "loss: 2.309536  [32000/60000]\n",
      "loss: 2.299196  [38400/60000]\n",
      "loss: 2.302678  [44800/60000]\n",
      "loss: 2.307226  [51200/60000]\n",
      "loss: 2.293816  [57600/60000]\n",
      "Test Error: \n",
      " Accuracy: 9.4%, Avg loss: 2.305494\n",
      "\n",
      "Epoch 3\n",
      "-------------------\n",
      "loss: 2.313850  [    0/60000]\n",
      "loss: 2.309516  [ 6400/60000]\n",
      "loss: 2.310773  [12800/60000]\n",
      "loss: 2.303579  [19200/60000]\n",
      "loss: 2.308517  [25600/60000]\n",
      "loss: 2.309536  [32000/60000]\n",
      "loss: 2.299196  [38400/60000]\n",
      "loss: 2.302678  [44800/60000]\n",
      "loss: 2.307226  [51200/60000]\n",
      "loss: 2.293816  [57600/60000]\n",
      "Test Error: \n",
      " Accuracy: 9.4%, Avg loss: 2.305494\n",
      "\n",
      "Epoch 4\n",
      "-------------------\n",
      "loss: 2.313850  [    0/60000]\n",
      "loss: 2.309516  [ 6400/60000]\n",
      "loss: 2.310773  [12800/60000]\n",
      "loss: 2.303579  [19200/60000]\n",
      "loss: 2.308517  [25600/60000]\n",
      "loss: 2.309536  [32000/60000]\n",
      "loss: 2.299196  [38400/60000]\n",
      "loss: 2.302678  [44800/60000]\n",
      "loss: 2.307226  [51200/60000]\n",
      "loss: 2.293816  [57600/60000]\n",
      "Test Error: \n",
      " Accuracy: 9.4%, Avg loss: 2.305494\n",
      "\n",
      "Epoch 5\n",
      "-------------------\n",
      "loss: 2.313850  [    0/60000]\n",
      "loss: 2.309516  [ 6400/60000]\n",
      "loss: 2.310773  [12800/60000]\n",
      "loss: 2.303579  [19200/60000]\n",
      "loss: 2.308517  [25600/60000]\n",
      "loss: 2.309536  [32000/60000]\n",
      "loss: 2.299196  [38400/60000]\n",
      "loss: 2.302678  [44800/60000]\n",
      "loss: 2.307226  [51200/60000]\n",
      "loss: 2.293816  [57600/60000]\n",
      "Test Error: \n",
      " Accuracy: 9.4%, Avg loss: 2.305494\n",
      "\n",
      "Done!\n"
     ]
    }
   ],
   "source": [
    "epochs = 5\n",
    "for t in range(epochs):\n",
    "    print(f\"Epoch {t + 1}\\n-------------------\")\n",
    "    train(train_dataloader, model, loss_fn, optimizer)\n",
    "    test(test_dataloader, model, loss_fn)\n",
    "print(\"Done!\")"
   ],
   "metadata": {
    "collapsed": false,
    "pycharm": {
     "name": "#%%\n"
    }
   }
  },
  {
   "cell_type": "code",
   "execution_count": 10,
   "outputs": [
    {
     "name": "stdout",
     "output_type": "stream",
     "text": [
      "Saved Pytorch Model State to model.pth\n"
     ]
    }
   ],
   "source": [
    "torch.save(model.state_dict(), \"model.pth\")\n",
    "print(\"Saved Pytorch Model State to model.pth\")"
   ],
   "metadata": {
    "collapsed": false,
    "pycharm": {
     "name": "#%%\n"
    }
   }
  },
  {
   "cell_type": "code",
   "execution_count": 10,
   "outputs": [],
   "source": [],
   "metadata": {
    "collapsed": false,
    "pycharm": {
     "name": "#%%\n"
    }
   }
  }
 ],
 "metadata": {
  "kernelspec": {
   "display_name": "Python 3",
   "language": "python",
   "name": "python3"
  },
  "language_info": {
   "codemirror_mode": {
    "name": "ipython",
    "version": 2
   },
   "file_extension": ".py",
   "mimetype": "text/x-python",
   "name": "python",
   "nbconvert_exporter": "python",
   "pygments_lexer": "ipython2",
   "version": "2.7.6"
  }
 },
 "nbformat": 4,
 "nbformat_minor": 0
}